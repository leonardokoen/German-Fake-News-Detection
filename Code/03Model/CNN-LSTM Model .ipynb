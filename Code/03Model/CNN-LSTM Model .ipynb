{
 "cells": [
  {
   "cell_type": "markdown",
   "metadata": {},
   "source": [
    "# Creating and Evaluating our Model "
   ]
  },
  {
   "cell_type": "markdown",
   "metadata": {},
   "source": [
    "# Import necessary libraries"
   ]
  },
  {
   "cell_type": "code",
   "execution_count": 56,
   "metadata": {
    "colab": {
     "base_uri": "https://localhost:8080/"
    },
    "id": "_cnBSh0q4ntf",
    "outputId": "3ccdad28-94c8-4a68-8811-28e39f0fc675"
   },
   "outputs": [],
   "source": [
    "import pandas as pd\n",
    "import numpy as np\n",
    "from sklearn.model_selection import train_test_split\n",
    "\n",
    "import tensorflow as tf \n",
    "from tensorflow.keras.layers import Embedding \n",
    "from tensorflow.keras.preprocessing.sequence import pad_sequences\n",
    "from tensorflow.keras.models import Sequential \n",
    "from tensorflow.keras.preprocessing.text import one_hot\n",
    "from tensorflow.keras.layers import LSTM \n",
    "from tensorflow.keras.layers import Conv1D\n",
    "from tensorflow.keras.layers import Dense \n",
    "from tensorflow.keras.layers import MaxPooling1D\n",
    "from sklearn.metrics import confusion_matrix\n",
    "from sklearn.metrics import f1_score\n",
    "from sklearn.metrics import accuracy_score\n",
    "from sklearn.metrics import precision_score\n",
    "from sklearn.metrics import recall_score\n",
    "from keras.callbacks import Callback"
   ]
  },
  {
   "cell_type": "markdown",
   "metadata": {},
   "source": [
    "# Loading and Combining data"
   ]
  },
  {
   "cell_type": "markdown",
   "metadata": {},
   "source": [
    "We load the **GermanFakeNC** dataset with threshold 0.5 and the balanced **news** dataset and then we combine it in a new dataset named df_combined and we shuffle the data."
   ]
  },
  {
   "cell_type": "code",
   "execution_count": 62,
   "metadata": {
    "id": "vPJWDQjD4qeT"
   },
   "outputs": [
    {
     "ename": "FileNotFoundError",
     "evalue": "[Errno 2] No such file or directory: '..\\\\..\\\\Datasets\\\\news\\\\news'",
     "output_type": "error",
     "traceback": [
      "\u001b[1;31m---------------------------------------------------------------------------\u001b[0m",
      "\u001b[1;31mFileNotFoundError\u001b[0m                         Traceback (most recent call last)",
      "\u001b[1;32m~\\AppData\\Local\\Temp/ipykernel_18284/3522241710.py\u001b[0m in \u001b[0;36m<module>\u001b[1;34m\u001b[0m\n\u001b[1;32m----> 1\u001b[1;33m \u001b[0mdf_news\u001b[0m \u001b[1;33m=\u001b[0m \u001b[0mpd\u001b[0m\u001b[1;33m.\u001b[0m\u001b[0mread_csv\u001b[0m\u001b[1;33m(\u001b[0m\u001b[1;34m'..\\\\..\\\\Datasets\\\\news\\\\news'\u001b[0m\u001b[1;33m,\u001b[0m \u001b[0mindex_col\u001b[0m\u001b[1;33m=\u001b[0m\u001b[1;36m0\u001b[0m\u001b[1;33m)\u001b[0m\u001b[1;33m\u001b[0m\u001b[1;33m\u001b[0m\u001b[0m\n\u001b[0m\u001b[0;32m      2\u001b[0m \u001b[0mdf_news\u001b[0m \u001b[1;33m=\u001b[0m \u001b[0mdf_news\u001b[0m\u001b[1;33m.\u001b[0m\u001b[0msample\u001b[0m\u001b[1;33m(\u001b[0m\u001b[0mfrac\u001b[0m\u001b[1;33m=\u001b[0m\u001b[1;36m1\u001b[0m\u001b[1;33m)\u001b[0m\u001b[1;33m.\u001b[0m\u001b[0mreset_index\u001b[0m\u001b[1;33m(\u001b[0m\u001b[0mdrop\u001b[0m\u001b[1;33m=\u001b[0m\u001b[1;32mTrue\u001b[0m\u001b[1;33m)\u001b[0m\u001b[1;33m\u001b[0m\u001b[1;33m\u001b[0m\u001b[0m\n\u001b[0;32m      3\u001b[0m \u001b[1;33m\u001b[0m\u001b[0m\n\u001b[0;32m      4\u001b[0m \u001b[0mdf_germanFakeNC\u001b[0m \u001b[1;33m=\u001b[0m \u001b[0mpd\u001b[0m\u001b[1;33m.\u001b[0m\u001b[0mread_csv\u001b[0m\u001b[1;33m(\u001b[0m\u001b[1;34m'..\\\\..\\\\Datasets\\\\GermanFakeNC\\\\GermanFakeNC'\u001b[0m\u001b[1;33m,\u001b[0m \u001b[0mindex_col\u001b[0m\u001b[1;33m=\u001b[0m\u001b[1;36m0\u001b[0m\u001b[1;33m)\u001b[0m\u001b[1;33m\u001b[0m\u001b[1;33m\u001b[0m\u001b[0m\n\u001b[0;32m      5\u001b[0m \u001b[0mdf_germanFakeNC\u001b[0m \u001b[1;33m=\u001b[0m \u001b[0mdf_germanFakeNC\u001b[0m\u001b[1;33m.\u001b[0m\u001b[0msample\u001b[0m\u001b[1;33m(\u001b[0m\u001b[0mfrac\u001b[0m\u001b[1;33m=\u001b[0m\u001b[1;36m1\u001b[0m\u001b[1;33m)\u001b[0m\u001b[1;33m.\u001b[0m\u001b[0mreset_index\u001b[0m\u001b[1;33m(\u001b[0m\u001b[0mdrop\u001b[0m\u001b[1;33m=\u001b[0m\u001b[1;32mTrue\u001b[0m\u001b[1;33m)\u001b[0m\u001b[1;33m\u001b[0m\u001b[1;33m\u001b[0m\u001b[0m\n",
      "\u001b[1;32m~\\anaconda3\\envs\\tf\\lib\\site-packages\\pandas\\util\\_decorators.py\u001b[0m in \u001b[0;36mwrapper\u001b[1;34m(*args, **kwargs)\u001b[0m\n\u001b[0;32m    309\u001b[0m                     \u001b[0mstacklevel\u001b[0m\u001b[1;33m=\u001b[0m\u001b[0mstacklevel\u001b[0m\u001b[1;33m,\u001b[0m\u001b[1;33m\u001b[0m\u001b[1;33m\u001b[0m\u001b[0m\n\u001b[0;32m    310\u001b[0m                 )\n\u001b[1;32m--> 311\u001b[1;33m             \u001b[1;32mreturn\u001b[0m \u001b[0mfunc\u001b[0m\u001b[1;33m(\u001b[0m\u001b[1;33m*\u001b[0m\u001b[0margs\u001b[0m\u001b[1;33m,\u001b[0m \u001b[1;33m**\u001b[0m\u001b[0mkwargs\u001b[0m\u001b[1;33m)\u001b[0m\u001b[1;33m\u001b[0m\u001b[1;33m\u001b[0m\u001b[0m\n\u001b[0m\u001b[0;32m    312\u001b[0m \u001b[1;33m\u001b[0m\u001b[0m\n\u001b[0;32m    313\u001b[0m         \u001b[1;32mreturn\u001b[0m \u001b[0mwrapper\u001b[0m\u001b[1;33m\u001b[0m\u001b[1;33m\u001b[0m\u001b[0m\n",
      "\u001b[1;32m~\\anaconda3\\envs\\tf\\lib\\site-packages\\pandas\\io\\parsers\\readers.py\u001b[0m in \u001b[0;36mread_csv\u001b[1;34m(filepath_or_buffer, sep, delimiter, header, names, index_col, usecols, squeeze, prefix, mangle_dupe_cols, dtype, engine, converters, true_values, false_values, skipinitialspace, skiprows, skipfooter, nrows, na_values, keep_default_na, na_filter, verbose, skip_blank_lines, parse_dates, infer_datetime_format, keep_date_col, date_parser, dayfirst, cache_dates, iterator, chunksize, compression, thousands, decimal, lineterminator, quotechar, quoting, doublequote, escapechar, comment, encoding, encoding_errors, dialect, error_bad_lines, warn_bad_lines, on_bad_lines, delim_whitespace, low_memory, memory_map, float_precision, storage_options)\u001b[0m\n\u001b[0;32m    678\u001b[0m     \u001b[0mkwds\u001b[0m\u001b[1;33m.\u001b[0m\u001b[0mupdate\u001b[0m\u001b[1;33m(\u001b[0m\u001b[0mkwds_defaults\u001b[0m\u001b[1;33m)\u001b[0m\u001b[1;33m\u001b[0m\u001b[1;33m\u001b[0m\u001b[0m\n\u001b[0;32m    679\u001b[0m \u001b[1;33m\u001b[0m\u001b[0m\n\u001b[1;32m--> 680\u001b[1;33m     \u001b[1;32mreturn\u001b[0m \u001b[0m_read\u001b[0m\u001b[1;33m(\u001b[0m\u001b[0mfilepath_or_buffer\u001b[0m\u001b[1;33m,\u001b[0m \u001b[0mkwds\u001b[0m\u001b[1;33m)\u001b[0m\u001b[1;33m\u001b[0m\u001b[1;33m\u001b[0m\u001b[0m\n\u001b[0m\u001b[0;32m    681\u001b[0m \u001b[1;33m\u001b[0m\u001b[0m\n\u001b[0;32m    682\u001b[0m \u001b[1;33m\u001b[0m\u001b[0m\n",
      "\u001b[1;32m~\\anaconda3\\envs\\tf\\lib\\site-packages\\pandas\\io\\parsers\\readers.py\u001b[0m in \u001b[0;36m_read\u001b[1;34m(filepath_or_buffer, kwds)\u001b[0m\n\u001b[0;32m    573\u001b[0m \u001b[1;33m\u001b[0m\u001b[0m\n\u001b[0;32m    574\u001b[0m     \u001b[1;31m# Create the parser.\u001b[0m\u001b[1;33m\u001b[0m\u001b[1;33m\u001b[0m\u001b[0m\n\u001b[1;32m--> 575\u001b[1;33m     \u001b[0mparser\u001b[0m \u001b[1;33m=\u001b[0m \u001b[0mTextFileReader\u001b[0m\u001b[1;33m(\u001b[0m\u001b[0mfilepath_or_buffer\u001b[0m\u001b[1;33m,\u001b[0m \u001b[1;33m**\u001b[0m\u001b[0mkwds\u001b[0m\u001b[1;33m)\u001b[0m\u001b[1;33m\u001b[0m\u001b[1;33m\u001b[0m\u001b[0m\n\u001b[0m\u001b[0;32m    576\u001b[0m \u001b[1;33m\u001b[0m\u001b[0m\n\u001b[0;32m    577\u001b[0m     \u001b[1;32mif\u001b[0m \u001b[0mchunksize\u001b[0m \u001b[1;32mor\u001b[0m \u001b[0miterator\u001b[0m\u001b[1;33m:\u001b[0m\u001b[1;33m\u001b[0m\u001b[1;33m\u001b[0m\u001b[0m\n",
      "\u001b[1;32m~\\anaconda3\\envs\\tf\\lib\\site-packages\\pandas\\io\\parsers\\readers.py\u001b[0m in \u001b[0;36m__init__\u001b[1;34m(self, f, engine, **kwds)\u001b[0m\n\u001b[0;32m    931\u001b[0m \u001b[1;33m\u001b[0m\u001b[0m\n\u001b[0;32m    932\u001b[0m         \u001b[0mself\u001b[0m\u001b[1;33m.\u001b[0m\u001b[0mhandles\u001b[0m\u001b[1;33m:\u001b[0m \u001b[0mIOHandles\u001b[0m \u001b[1;33m|\u001b[0m \u001b[1;32mNone\u001b[0m \u001b[1;33m=\u001b[0m \u001b[1;32mNone\u001b[0m\u001b[1;33m\u001b[0m\u001b[1;33m\u001b[0m\u001b[0m\n\u001b[1;32m--> 933\u001b[1;33m         \u001b[0mself\u001b[0m\u001b[1;33m.\u001b[0m\u001b[0m_engine\u001b[0m \u001b[1;33m=\u001b[0m \u001b[0mself\u001b[0m\u001b[1;33m.\u001b[0m\u001b[0m_make_engine\u001b[0m\u001b[1;33m(\u001b[0m\u001b[0mf\u001b[0m\u001b[1;33m,\u001b[0m \u001b[0mself\u001b[0m\u001b[1;33m.\u001b[0m\u001b[0mengine\u001b[0m\u001b[1;33m)\u001b[0m\u001b[1;33m\u001b[0m\u001b[1;33m\u001b[0m\u001b[0m\n\u001b[0m\u001b[0;32m    934\u001b[0m \u001b[1;33m\u001b[0m\u001b[0m\n\u001b[0;32m    935\u001b[0m     \u001b[1;32mdef\u001b[0m \u001b[0mclose\u001b[0m\u001b[1;33m(\u001b[0m\u001b[0mself\u001b[0m\u001b[1;33m)\u001b[0m\u001b[1;33m:\u001b[0m\u001b[1;33m\u001b[0m\u001b[1;33m\u001b[0m\u001b[0m\n",
      "\u001b[1;32m~\\anaconda3\\envs\\tf\\lib\\site-packages\\pandas\\io\\parsers\\readers.py\u001b[0m in \u001b[0;36m_make_engine\u001b[1;34m(self, f, engine)\u001b[0m\n\u001b[0;32m   1215\u001b[0m             \u001b[1;31m# \"Union[str, PathLike[str], ReadCsvBuffer[bytes], ReadCsvBuffer[str]]\"\u001b[0m\u001b[1;33m\u001b[0m\u001b[1;33m\u001b[0m\u001b[0m\n\u001b[0;32m   1216\u001b[0m             \u001b[1;31m# , \"str\", \"bool\", \"Any\", \"Any\", \"Any\", \"Any\", \"Any\"\u001b[0m\u001b[1;33m\u001b[0m\u001b[1;33m\u001b[0m\u001b[0m\n\u001b[1;32m-> 1217\u001b[1;33m             self.handles = get_handle(  # type: ignore[call-overload]\n\u001b[0m\u001b[0;32m   1218\u001b[0m                 \u001b[0mf\u001b[0m\u001b[1;33m,\u001b[0m\u001b[1;33m\u001b[0m\u001b[1;33m\u001b[0m\u001b[0m\n\u001b[0;32m   1219\u001b[0m                 \u001b[0mmode\u001b[0m\u001b[1;33m,\u001b[0m\u001b[1;33m\u001b[0m\u001b[1;33m\u001b[0m\u001b[0m\n",
      "\u001b[1;32m~\\anaconda3\\envs\\tf\\lib\\site-packages\\pandas\\io\\common.py\u001b[0m in \u001b[0;36mget_handle\u001b[1;34m(path_or_buf, mode, encoding, compression, memory_map, is_text, errors, storage_options)\u001b[0m\n\u001b[0;32m    787\u001b[0m         \u001b[1;32mif\u001b[0m \u001b[0mioargs\u001b[0m\u001b[1;33m.\u001b[0m\u001b[0mencoding\u001b[0m \u001b[1;32mand\u001b[0m \u001b[1;34m\"b\"\u001b[0m \u001b[1;32mnot\u001b[0m \u001b[1;32min\u001b[0m \u001b[0mioargs\u001b[0m\u001b[1;33m.\u001b[0m\u001b[0mmode\u001b[0m\u001b[1;33m:\u001b[0m\u001b[1;33m\u001b[0m\u001b[1;33m\u001b[0m\u001b[0m\n\u001b[0;32m    788\u001b[0m             \u001b[1;31m# Encoding\u001b[0m\u001b[1;33m\u001b[0m\u001b[1;33m\u001b[0m\u001b[0m\n\u001b[1;32m--> 789\u001b[1;33m             handle = open(\n\u001b[0m\u001b[0;32m    790\u001b[0m                 \u001b[0mhandle\u001b[0m\u001b[1;33m,\u001b[0m\u001b[1;33m\u001b[0m\u001b[1;33m\u001b[0m\u001b[0m\n\u001b[0;32m    791\u001b[0m                 \u001b[0mioargs\u001b[0m\u001b[1;33m.\u001b[0m\u001b[0mmode\u001b[0m\u001b[1;33m,\u001b[0m\u001b[1;33m\u001b[0m\u001b[1;33m\u001b[0m\u001b[0m\n",
      "\u001b[1;31mFileNotFoundError\u001b[0m: [Errno 2] No such file or directory: '..\\\\..\\\\Datasets\\\\news\\\\news'"
     ]
    }
   ],
   "source": [
    "#If you didn't run the preprocess codes you can used the already preprocessed \n",
    "#data by changing the first and the third line of code with the following.\n",
    "#df_news = pd.read_csv('..\\\\..\\\\Datasets\\\\Preprocessed\\\\df_preprocessed_news', index_col=0)\n",
    "#df_germanFakeNC = pd.read_csv('..\\\\..\\\\Datasets\\\\Preprocessed\\\\df_preprocessed_GermanFakeNC', index_col=0)\n",
    "\n",
    "df_news = pd.read_csv('..\\\\..\\\\Datasets\\\\news\\\\df_preprocessed_news', index_col=0)\n",
    "df_news = df_news.sample(frac=1).reset_index(drop=True)\n",
    "\n",
    "df_germanFakeNC = pd.read_csv('..\\\\..\\\\Datasets\\\\GermanFakeNC\\\\df_preprocessed_GermanFakeNC', index_col=0)\n",
    "df_germanFakeNC = df_germanFakeNC.sample(frac=1).reset_index(drop=True)\n",
    "\n",
    "df_combined = pd.concat([df_news.reset_index(drop=True),df_germanFakeNC.reset_index(drop=True)], axis=0)\n",
    "df_combined = df_combined.sample(frac=1).reset_index(drop=True)"
   ]
  },
  {
   "cell_type": "code",
   "execution_count": 3,
   "metadata": {},
   "outputs": [
    {
     "data": {
      "text/html": [
       "<div>\n",
       "<style scoped>\n",
       "    .dataframe tbody tr th:only-of-type {\n",
       "        vertical-align: middle;\n",
       "    }\n",
       "\n",
       "    .dataframe tbody tr th {\n",
       "        vertical-align: top;\n",
       "    }\n",
       "\n",
       "    .dataframe thead th {\n",
       "        text-align: right;\n",
       "    }\n",
       "</style>\n",
       "<table border=\"1\" class=\"dataframe\">\n",
       "  <thead>\n",
       "    <tr style=\"text-align: right;\">\n",
       "      <th></th>\n",
       "      <th>Title</th>\n",
       "      <th>Text</th>\n",
       "      <th>Fake-Real</th>\n",
       "    </tr>\n",
       "  </thead>\n",
       "  <tbody>\n",
       "    <tr>\n",
       "      <th>0</th>\n",
       "      <td>studie dritt frau tausch beim masturbier orgasmu</td>\n",
       "      <td>wissenschaftl universita salzburg herausgefu p...</td>\n",
       "      <td>1</td>\n",
       "    </tr>\n",
       "    <tr>\n",
       "      <th>1</th>\n",
       "      <td>zyper hoff hilf russla</td>\n",
       "      <td>zyper bemuh vorer scheiter eu rettungspla hilf...</td>\n",
       "      <td>0</td>\n",
       "    </tr>\n",
       "    <tr>\n",
       "      <th>2</th>\n",
       "      <td>homo ehe berei millio franzosisch familie zerstor</td>\n",
       "      <td>pari seit legalisierung ehe gleichgeschlechtli...</td>\n",
       "      <td>1</td>\n",
       "    </tr>\n",
       "    <tr>\n",
       "      <th>3</th>\n",
       "      <td>chefredaktio informier leser</td>\n",
       "      <td>gross ratsel musikgeschich los betrunk weltges...</td>\n",
       "      <td>1</td>\n",
       "    </tr>\n",
       "    <tr>\n",
       "      <th>4</th>\n",
       "      <td>jahr smar nehm blitzmaratho teil</td>\n",
       "      <td>april schon verweig smartfahr grosstenteil heu...</td>\n",
       "      <td>1</td>\n",
       "    </tr>\n",
       "    <tr>\n",
       "      <th>...</th>\n",
       "      <td>...</td>\n",
       "      <td>...</td>\n",
       "      <td>...</td>\n",
       "    </tr>\n",
       "    <tr>\n",
       "      <th>9557</th>\n",
       "      <td>nachfrag stock sgl schreib rot zahl</td>\n",
       "      <td>sparprogramm verscharf aktie kohlenstoffspezia...</td>\n",
       "      <td>0</td>\n",
       "    </tr>\n",
       "    <tr>\n",
       "      <th>9558</th>\n",
       "      <td>cannabi wirk hochresi bakterie</td>\n",
       "      <td>molekul pflanz ausweg antibiotika miser wissen...</td>\n",
       "      <td>0</td>\n",
       "    </tr>\n",
       "    <tr>\n",
       "      <th>9559</th>\n",
       "      <td>enorm zuspruch gaula kaum jema freiwillig neb ...</td>\n",
       "      <td>mai afd vizevorsitz alexa gaula erhal zustimmu...</td>\n",
       "      <td>1</td>\n",
       "    </tr>\n",
       "    <tr>\n",
       "      <th>9560</th>\n",
       "      <td>cia veroffentlich aktualisier fahndungsfoto os...</td>\n",
       "      <td>foto sichtlich vera osama lad computersimulati...</td>\n",
       "      <td>1</td>\n",
       "    </tr>\n",
       "    <tr>\n",
       "      <th>9561</th>\n",
       "      <td>mann buro stund bildschirm starr entspann weit...</td>\n",
       "      <td>endlich feierab michael kresi verwaltungsfacha...</td>\n",
       "      <td>1</td>\n",
       "    </tr>\n",
       "  </tbody>\n",
       "</table>\n",
       "<p>9562 rows × 3 columns</p>\n",
       "</div>"
      ],
      "text/plain": [
       "                                                  Title  \\\n",
       "0      studie dritt frau tausch beim masturbier orgasmu   \n",
       "1                                zyper hoff hilf russla   \n",
       "2     homo ehe berei millio franzosisch familie zerstor   \n",
       "3                          chefredaktio informier leser   \n",
       "4                      jahr smar nehm blitzmaratho teil   \n",
       "...                                                 ...   \n",
       "9557                nachfrag stock sgl schreib rot zahl   \n",
       "9558                     cannabi wirk hochresi bakterie   \n",
       "9559  enorm zuspruch gaula kaum jema freiwillig neb ...   \n",
       "9560  cia veroffentlich aktualisier fahndungsfoto os...   \n",
       "9561  mann buro stund bildschirm starr entspann weit...   \n",
       "\n",
       "                                                   Text  Fake-Real  \n",
       "0     wissenschaftl universita salzburg herausgefu p...          1  \n",
       "1     zyper bemuh vorer scheiter eu rettungspla hilf...          0  \n",
       "2     pari seit legalisierung ehe gleichgeschlechtli...          1  \n",
       "3     gross ratsel musikgeschich los betrunk weltges...          1  \n",
       "4     april schon verweig smartfahr grosstenteil heu...          1  \n",
       "...                                                 ...        ...  \n",
       "9557  sparprogramm verscharf aktie kohlenstoffspezia...          0  \n",
       "9558  molekul pflanz ausweg antibiotika miser wissen...          0  \n",
       "9559  mai afd vizevorsitz alexa gaula erhal zustimmu...          1  \n",
       "9560  foto sichtlich vera osama lad computersimulati...          1  \n",
       "9561  endlich feierab michael kresi verwaltungsfacha...          1  \n",
       "\n",
       "[9562 rows x 3 columns]"
      ]
     },
     "execution_count": 3,
     "metadata": {},
     "output_type": "execute_result"
    }
   ],
   "source": [
    "df_combined"
   ]
  },
  {
   "cell_type": "markdown",
   "metadata": {},
   "source": [
    "# Processing data before fitting into the model."
   ]
  },
  {
   "cell_type": "markdown",
   "metadata": {},
   "source": [
    "We represent the words in every dataset as integer numbers using one hot encoding (Size of the vocabulary = 20000) "
   ]
  },
  {
   "cell_type": "code",
   "execution_count": 4,
   "metadata": {
    "id": "mK2PyynR41zL"
   },
   "outputs": [],
   "source": [
    "vocab=20000 #Setting up vocabulary size\n",
    "\n",
    "onehot_repr_news=[one_hot(words,vocab)for words in df_news['Text']]\n",
    "onehot_repr_germanFakeNC=[one_hot(words,vocab)for words in df_germanFakeNC['Text']]\n",
    "onehot_repr_combined=[one_hot(words,vocab)for words in df_combined['Text']]"
   ]
  },
  {
   "cell_type": "markdown",
   "metadata": {},
   "source": [
    "We make our data to have the same length."
   ]
  },
  {
   "cell_type": "code",
   "execution_count": 5,
   "metadata": {
    "id": "mBaEsWn75Gn8"
   },
   "outputs": [],
   "source": [
    "length = 100 #Setting sentence length\n",
    "embedded_docs_news=pad_sequences(onehot_repr_news,padding='pre',maxlen=length)\n",
    "embedded_docs_germanFakeNC=pad_sequences(onehot_repr_germanFakeNC,padding='pre',maxlen=length)\n",
    "embedded_docs_combined=pad_sequences(onehot_repr_combined,padding='pre',maxlen=length)"
   ]
  },
  {
   "cell_type": "markdown",
   "metadata": {},
   "source": [
    "# Creating model"
   ]
  },
  {
   "cell_type": "code",
   "execution_count": 6,
   "metadata": {},
   "outputs": [
    {
     "data": {
      "image/jpeg": "[encoded data removed]",
      "text/plain": [
       "<IPython.core.display.Image object>"
      ]
     },
     "execution_count": 6,
     "metadata": {},
     "output_type": "execute_result"
    }
   ],
   "source": [
    "from IPython.display import Image\n",
    "Image(filename='Model.jpg')"
   ]
  },
  {
   "cell_type": "markdown",
   "metadata": {},
   "source": [
    "*We used a model that is proposed by Nasir, Khan and Varlamis(2021), we changed only the units of the LSTM from 32->128 So the lstm output & dense layer input is (?,128):*  \n",
    "[Fake news detection: A hybrid CNN-RNN based deep learning approach](https://reader.elsevier.com/reader/sd/pii/S2667096820300070?token=AA6959D413A71A6F9E40595E6AD8793383EC45D158119218F6929CDE34A7EF3A04EA593E70024059F523EF70E3184ED7&originRegion=eu-west-1&originCreation=20220219184030) \n"
   ]
  },
  {
   "cell_type": "code",
   "execution_count": 7,
   "metadata": {
    "id": "kXMz1wZ25Lb8"
   },
   "outputs": [],
   "source": [
    "embedding_vector_features=300\n",
    "model=Sequential()\n",
    "model.add(Embedding(vocab,embedding_vector_features,input_length=length))\n",
    "#output(batch_size, 100, 300)\n",
    "model.add(Conv1D(128, 5, activation='relu'))\n",
    "#output(batch_size, 96, 128), (batch_size, (size of input - size of kernel + 1) , number of filters)\n",
    "model.add(MaxPooling1D(pool_size=1,strides=2,padding='valid'))\n",
    "#output(batch_size, 48, 128), (batch_size, (size of input - pool_size + 1)/strides, number of filters )\n",
    "model.add(LSTM(128)) #Adding 128 lstm neurons in the layer\n",
    "#output(batch_size, 128)\n",
    "model.add(Dense(1,activation='sigmoid'))\n",
    "#output(1)\n",
    "#Compiling the model\n",
    "model.compile(loss='binary_crossentropy',optimizer='adam',metrics=['accuracy'])"
   ]
  },
  {
   "cell_type": "markdown",
   "metadata": {},
   "source": [
    "# Splitting our data and training our model using df_combined"
   ]
  },
  {
   "cell_type": "markdown",
   "metadata": {},
   "source": [
    "We split df_combined in 33% test data and 67% train data and we train our model with batch size = 64 and epochs = 5. "
   ]
  },
  {
   "cell_type": "code",
   "execution_count": 8,
   "metadata": {
    "id": "w0EQBYrT_bBo"
   },
   "outputs": [],
   "source": [
    "X_final=np.array(embedded_docs_combined)\n",
    "y_final=np.array(df_combined['Fake-Real'])\n",
    "X_train, X_test, y_train, y_test = train_test_split(X_final, y_final, test_size=0.33, random_state=42)"
   ]
  },
  {
   "cell_type": "code",
   "execution_count": 10,
   "metadata": {
    "colab": {
     "base_uri": "https://localhost:8080/"
    },
    "id": "hNN-eb5Y_w6V",
    "outputId": "9f2e208f-ebfe-4b9a-d680-810b30646d57"
   },
   "outputs": [
    {
     "name": "stdout",
     "output_type": "stream",
     "text": [
      "Epoch 1/5\n",
      "101/101 [==============================] - 32s 290ms/step - loss: 0.2875 - accuracy: 0.8874\n",
      "Epoch 2/5\n",
      "101/101 [==============================] - 31s 303ms/step - loss: 0.0557 - accuracy: 0.9827\n",
      "Epoch 3/5\n",
      "101/101 [==============================] - 31s 303ms/step - loss: 0.0240 - accuracy: 0.9908\n",
      "Epoch 4/5\n",
      "101/101 [==============================] - 31s 303ms/step - loss: 0.0179 - accuracy: 0.9924\n",
      "Epoch 5/5\n",
      "101/101 [==============================] - 31s 305ms/step - loss: 0.0180 - accuracy: 0.9917\n"
     ]
    },
    {
     "data": {
      "text/plain": [
       "<keras.callbacks.History at 0x20c37febc10>"
      ]
     },
     "execution_count": 10,
     "metadata": {},
     "output_type": "execute_result"
    }
   ],
   "source": [
    "model.fit(X_train,y_train,epochs=5,batch_size=64, shuffle=True)"
   ]
  },
  {
   "cell_type": "markdown",
   "metadata": {},
   "source": [
    "# Saving Weights"
   ]
  },
  {
   "cell_type": "markdown",
   "metadata": {},
   "source": [
    "Run the following code if you want to save the weights in .txt files and save the weights of the model in a format that they can be loaded."
   ]
  },
  {
   "cell_type": "code",
   "execution_count": 51,
   "metadata": {},
   "outputs": [
    {
     "name": "stdout",
     "output_type": "stream",
     "text": [
      "Length of embedded_list: 1\n",
      "Shape of Embedded_layer_weights: (20000, 300)\n",
      "Length of convolution_list: 2\n",
      "Shape of Convolution_layer_weights_1: (5, 300, 128)\n",
      "Shape of Convolution_layer_weights_2: (128,)\n",
      "Length of maxpooling_list: 0\n",
      "Length of lstm_list: 3\n",
      "Shape of Lstm_layer_weights_1: (128, 512)\n",
      "Shape of Lstm_layer_weights_2: (128, 512)\n",
      "Shape of Lstm_layer_weights_3: (512,)\n",
      "Length of dense_list: 2\n",
      "Shape of Dense_layer_weights_1: (128, 1)\n",
      "Shape of Dense_layer_weights_2: (1,)\n"
     ]
    }
   ],
   "source": [
    "Embedded_layer_weights = model.layers[0].get_weights()[0]\n",
    "print(\"Length of embedded_list:\",len(model.layers[0].get_weights()))\n",
    "print(\"Shape of Embedded_layer_weights:\",Embedded_layer_weights.shape)\n",
    "\n",
    "Convolution_layer_weights_1 = model.layers[1].get_weights()[0]\n",
    "Convolution_layer_weights_2 = model.layers[1].get_weights()[1]\n",
    "print(\"Length of convolution_list:\",len(model.layers[1].get_weights()))\n",
    "print(\"Shape of Convolution_layer_weights_1:\",Convolution_layer_weights_1.shape)\n",
    "print(\"Shape of Convolution_layer_weights_2:\",Convolution_layer_weights_2.shape)\n",
    "\n",
    "print(\"Length of maxpooling_list:\",len(model.layers[2].get_weights()))\n",
    "\n",
    "Lstm_layer_weights_1 = model.layers[3].get_weights()[0]\n",
    "Lstm_layer_weights_2 = model.layers[3].get_weights()[1]\n",
    "Lstm_layer_weights_3 = model.layers[3].get_weights()[2]\n",
    "print(\"Length of lstm_list:\",len(model.layers[3].get_weights()))\n",
    "print(\"Shape of Lstm_layer_weights_1:\",Lstm_layer_weights_1.shape)\n",
    "print(\"Shape of Lstm_layer_weights_2:\",Lstm_layer_weights_2.shape)\n",
    "print(\"Shape of Lstm_layer_weights_3:\",Lstm_layer_weights_3.shape)\n",
    "\n",
    "Dense_layer_weights_1 = model.layers[4].get_weights()[0]\n",
    "Dense_layer_weights_2 = model.layers[4].get_weights()[1]\n",
    "print(\"Length of dense_list:\",len(model.layers[4].get_weights()))\n",
    "print(\"Shape of Dense_layer_weights_1:\",Dense_layer_weights_1.shape)\n",
    "print(\"Shape of Dense_layer_weights_2:\",Dense_layer_weights_2.shape)\n",
    "\n",
    "with open('Weights\\\\embedded_weights.txt', 'w') as filehandle:\n",
    "    for listitem in Embedded_layer_weights:\n",
    "        filehandle.write('%s\\n' % listitem)\n",
    "        \n",
    "with open('Weights\\\\convolution_weights.txt', 'w') as filehandle:\n",
    "    filehandle.write('Convolution_layer_weights_1\\n')\n",
    "    for listitem1 in Convolution_layer_weights_1[0]:\n",
    "        for listitem2 in Convolution_layer_weights_1[1]:\n",
    "            filehandle.write('%s\\n' % listitem2)\n",
    "        \n",
    "    filehandle.write('Convolution_layer_weights_2\\n')\n",
    "    for listitem in Convolution_layer_weights_2:\n",
    "        filehandle.write('%s\\n' % listitem)\n",
    "        \n",
    "with open('Weights\\\\lstm_weights.txt', 'w') as filehandle:\n",
    "    filehandle.write('Lstm_layer_weights_1\\n')\n",
    "    for listitem in Lstm_layer_weights_1:\n",
    "        filehandle.write('%s\\n' % listitem)\n",
    "        \n",
    "    filehandle.write('Lstm_layer_weights_2\\n')\n",
    "    for listitem in Lstm_layer_weights_2:\n",
    "        filehandle.write('%s\\n' % listitem)\n",
    "        \n",
    "    filehandle.write('Lstm_layer_weights_3\\n')\n",
    "    for listitem in Lstm_layer_weights_3:\n",
    "        filehandle.write('%s\\n' % listitem)\n",
    "        \n",
    "with open('Weights\\\\dense_weights.txt', 'w') as filehandle:\n",
    "    filehandle.write('Dense_layer_weights_1\\n')\n",
    "    for listitem in Dense_layer_weights_1:\n",
    "        filehandle.write('%s\\n' % listitem)\n",
    "        \n",
    "    filehandle.write('Dense_layer_weights_2\\n')\n",
    "    for listitem in Dense_layer_weights_2:\n",
    "        filehandle.write('%s\\n' % listitem) \n",
    "        \n",
    "model.save_weights(\"Weights\\\\pretrained_weights\\\\pretrained_weights\")        "
   ]
  },
  {
   "cell_type": "markdown",
   "metadata": {},
   "source": [
    "Run the following code to load in our sequential model pretrained weights. "
   ]
  },
  {
   "cell_type": "code",
   "execution_count": 50,
   "metadata": {},
   "outputs": [],
   "source": [
    "load_status = model.load_weights(\"Weights\\\\pretrained_weights\\\\pretrained_weights\")"
   ]
  },
  {
   "cell_type": "markdown",
   "metadata": {},
   "source": [
    "#  Model evaluation"
   ]
  },
  {
   "cell_type": "markdown",
   "metadata": {},
   "source": [
    "We evaluate our model using: \n",
    "* 33% of the df_combined dataset\n",
    "* The whole news dataset\n",
    "* The whole GermanFakeNC  \n",
    "The metrics used to evaluate our model is a confusion matrix and the F1 score\n"
   ]
  },
  {
   "cell_type": "code",
   "execution_count": 57,
   "metadata": {
    "id": "0JaBIgeM_2xK"
   },
   "outputs": [],
   "source": [
    "#predict combined\n",
    "predicted_combined = model.predict(X_test)\n",
    "for i in range(0, len(predicted_combined)):\n",
    "    if predicted_combined[i] > 0.5:\n",
    "        predicted_combined[i] = 1\n",
    "    else:\n",
    "        predicted_combined[i] = 0 "
   ]
  },
  {
   "cell_type": "code",
   "execution_count": 58,
   "metadata": {},
   "outputs": [],
   "source": [
    "#predict news\n",
    "X_test_news = np.array(embedded_docs_news)\n",
    "y_test_news = np.array(df_news['Fake-Real'])\n",
    "predicted_news = model.predict(X_test_news)\n",
    "for i in range(0, len(predicted_news)):\n",
    "    if predicted_news[i] > 0.5:\n",
    "        predicted_news[i] = 1\n",
    "    else:\n",
    "        predicted_news[i] = 0      "
   ]
  },
  {
   "cell_type": "code",
   "execution_count": 59,
   "metadata": {},
   "outputs": [],
   "source": [
    "#predict GermanFakeNC\n",
    "X_test_germanFakeNC = np.array(embedded_docs_germanFakeNC)\n",
    "y_test_germanFakeNC = np.array(df_germanFakeNC['Fake-Real'])\n",
    "predicted_germanFakeNC = model.predict(X_test_germanFakeNC)\n",
    "for i in range(0, len(predicted_germanFakeNC)):\n",
    "    if predicted_germanFakeNC[i] > 0.5:\n",
    "        predicted_germanFakeNC[i] = 1\n",
    "    else:\n",
    "        predicted_germanFakeNC[i] = 0        \n",
    "        "
   ]
  },
  {
   "cell_type": "code",
   "execution_count": 60,
   "metadata": {},
   "outputs": [
    {
     "name": "stdout",
     "output_type": "stream",
     "text": [
      "The 67% of df_combined:\n",
      "Confusion Matrix:\n",
      " [[1460  123]\n",
      " [  74 1499]]\n",
      "Accuracy: 0.9375792141951838\n",
      "Precision: 0.9241676942046856\n",
      "Recall: 0.9529561347743166\n",
      "\n",
      "F1-Score 0.9383411580594679\n",
      "\n",
      "The news dataset:\n",
      "Confusion Matrix:\n",
      " [[4521  106]\n",
      " [  65 4562]]\n",
      "Accuracy: 0.9815215042143938\n",
      "Precision: 0.9772922022279349\n",
      "Recall: 0.9859520207477848\n",
      "\n",
      "F1-Score 0.9816030123722432\n",
      "\n",
      "The germanFakeNC dataset:\n",
      "Confusion Matrix:\n",
      " [[ 91  41]\n",
      " [ 24 152]]\n",
      "Accuracy: 0.788961038961039\n",
      "Precision: 0.7875647668393783\n",
      "Recall: 0.8636363636363636\n",
      "\n",
      "F1-Score 0.8238482384823848\n"
     ]
    }
   ],
   "source": [
    "print(\"The 67% of df_combined:\")\n",
    "print(\"Confusion Matrix:\\n\",confusion_matrix(y_test, predicted_combined))\n",
    "print(\"Accuracy:\", accuracy_score(y_test, predicted_combined))\n",
    "print(\"Precision:\", precision_score(y_test, predicted_combined))\n",
    "print(\"Recall:\", recall_score(y_test, predicted_combined))\n",
    "print(\"\\nF1-Score\",f1_score(y_test, predicted_combined))\n",
    "\n",
    "print(\"\\nThe news dataset:\")\n",
    "print(\"Confusion Matrix:\\n\",confusion_matrix(y_test_news, predicted_news))\n",
    "print(\"Accuracy:\", accuracy_score(y_test_news, predicted_news))\n",
    "print(\"Precision:\", precision_score(y_test_news, predicted_news))\n",
    "print(\"Recall:\", recall_score(y_test_news, predicted_news))\n",
    "print(\"\\nF1-Score\",f1_score(y_test_news, predicted_news))\n",
    "\n",
    "print(\"\\nThe germanFakeNC dataset:\")\n",
    "print(\"Confusion Matrix:\\n\",confusion_matrix(y_test_germanFakeNC, predicted_germanFakeNC))\n",
    "print(\"Accuracy:\", accuracy_score(y_test_germanFakeNC, predicted_germanFakeNC))\n",
    "print(\"Precision:\", precision_score(y_test_germanFakeNC, predicted_germanFakeNC))\n",
    "print(\"Recall:\", recall_score(y_test_germanFakeNC, predicted_germanFakeNC))\n",
    "print(\"\\nF1-Score\",f1_score(y_test_germanFakeNC, predicted_germanFakeNC))\n"
   ]
  }
 ],
 "metadata": {
  "colab": {
   "collapsed_sections": [],
   "name": "Cnn-LSTM implemetation.ipynb",
   "provenance": []
  },
  "kernelspec": {
   "display_name": "Python 3 (ipykernel)",
   "language": "python",
   "name": "python3"
  },
  "language_info": {
   "codemirror_mode": {
    "name": "ipython",
    "version": 3
   },
   "file_extension": ".py",
   "mimetype": "text/x-python",
   "name": "python",
   "nbconvert_exporter": "python",
   "pygments_lexer": "ipython3",
   "version": "3.9.7"
  },
  "latex_envs": {
   "LaTeX_envs_menu_present": true,
   "autoclose": false,
   "autocomplete": true,
   "bibliofile": "biblio.bib",
   "cite_by": "apalike",
   "current_citInitial": 1,
   "eqLabelWithNumbers": true,
   "eqNumInitial": 1,
   "hotkeys": {
    "equation": "Ctrl-E",
    "itemize": "Ctrl-I"
   },
   "labels_anchors": false,
   "latex_user_defs": false,
   "report_style_numbering": false,
   "user_envs_cfg": false
  },
  "toc": {
   "base_numbering": 1,
   "nav_menu": {},
   "number_sections": true,
   "sideBar": true,
   "skip_h1_title": false,
   "title_cell": "Table of Contents",
   "title_sidebar": "Contents",
   "toc_cell": false,
   "toc_position": {},
   "toc_section_display": true,
   "toc_window_display": false
  },
  "varInspector": {
   "cols": {
    "lenName": 16,
    "lenType": 16,
    "lenVar": 40
   },
   "kernels_config": {
    "python": {
     "delete_cmd_postfix": "",
     "delete_cmd_prefix": "del ",
     "library": "var_list.py",
     "varRefreshCmd": "print(var_dic_list())"
    },
    "r": {
     "delete_cmd_postfix": ") ",
     "delete_cmd_prefix": "rm(",
     "library": "var_list.r",
     "varRefreshCmd": "cat(var_dic_list()) "
    }
   },
   "types_to_exclude": [
    "module",
    "function",
    "builtin_function_or_method",
    "instance",
    "_Feature"
   ],
   "window_display": false
  }
 },
 "nbformat": 4,
 "nbformat_minor": 1
}
