{
 "cells": [
  {
   "cell_type": "markdown",
   "id": "950baeb6",
   "metadata": {},
   "source": [
    "# Preprocess for news dataset"
   ]
  },
  {
   "cell_type": "markdown",
   "id": "517253e3",
   "metadata": {},
   "source": [
    "We searched the web to find other datasets with German fake news in order to enhance our model and test it on different data that are from different pools.  \n",
    "We found this source : https://www.kaggle.com/astoeckl/fake-news-dataset-german"
   ]
  },
  {
   "cell_type": "markdown",
   "id": "4a4c1315",
   "metadata": {},
   "source": [
    "# Import necessary libraries"
   ]
  },
  {
   "cell_type": "code",
   "execution_count": 2,
   "id": "820d6bd6",
   "metadata": {},
   "outputs": [
    {
     "name": "stderr",
     "output_type": "stream",
     "text": [
      "[nltk_data] Downloading package stopwords to\n",
      "[nltk_data]     C:\\Users\\User\\AppData\\Roaming\\nltk_data...\n",
      "[nltk_data]   Package stopwords is already up-to-date!\n"
     ]
    }
   ],
   "source": [
    "import pandas as pd\n",
    "import requests\n",
    "import nltk \n",
    "import re \n",
    "from nltk.corpus import stopwords\n",
    "nltk.download('stopwords')\n",
    "from imblearn.under_sampling import RandomUnderSampler"
   ]
  },
  {
   "cell_type": "markdown",
   "id": "68424a48",
   "metadata": {},
   "source": [
    "# Data preprocessing"
   ]
  },
  {
   "cell_type": "markdown",
   "id": "3c838a43",
   "metadata": {},
   "source": [
    "## Load news.csv"
   ]
  },
  {
   "cell_type": "code",
   "execution_count": 3,
   "id": "817d0f30",
   "metadata": {},
   "outputs": [],
   "source": [
    "df = pd.read_csv('../../Datasets/news/news.csv', index_col=0)"
   ]
  },
  {
   "cell_type": "code",
   "execution_count": 39,
   "id": "8fd1e7e4",
   "metadata": {},
   "outputs": [
    {
     "data": {
      "text/html": [
       "<div>\n",
       "<style scoped>\n",
       "    .dataframe tbody tr th:only-of-type {\n",
       "        vertical-align: middle;\n",
       "    }\n",
       "\n",
       "    .dataframe tbody tr th {\n",
       "        vertical-align: top;\n",
       "    }\n",
       "\n",
       "    .dataframe thead th {\n",
       "        text-align: right;\n",
       "    }\n",
       "</style>\n",
       "<table border=\"1\" class=\"dataframe\">\n",
       "  <thead>\n",
       "    <tr style=\"text-align: right;\">\n",
       "      <th></th>\n",
       "      <th>url</th>\n",
       "      <th>Titel</th>\n",
       "      <th>Body</th>\n",
       "      <th>Kategorie</th>\n",
       "      <th>Datum</th>\n",
       "      <th>Quelle</th>\n",
       "      <th>Fake</th>\n",
       "      <th>Art</th>\n",
       "    </tr>\n",
       "    <tr>\n",
       "      <th>id</th>\n",
       "      <th></th>\n",
       "      <th></th>\n",
       "      <th></th>\n",
       "      <th></th>\n",
       "      <th></th>\n",
       "      <th></th>\n",
       "      <th></th>\n",
       "      <th></th>\n",
       "    </tr>\n",
       "  </thead>\n",
       "  <tbody>\n",
       "    <tr>\n",
       "      <th>773233</th>\n",
       "      <td>http://www.der-postillon.com/2018/01/grokoleak...</td>\n",
       "      <td>Exklusiv! Das geheime WhatsApp-Chat-Protokoll ...</td>\n",
       "      <td>Die Sondierungsgespräche zwischen Union und SP...</td>\n",
       "      <td>wirtschaft</td>\n",
       "      <td>2018-01-18 00:00:00</td>\n",
       "      <td>Postillion</td>\n",
       "      <td>1</td>\n",
       "      <td>NaN</td>\n",
       "    </tr>\n",
       "    <tr>\n",
       "      <th>773234</th>\n",
       "      <td>http://www.der-postillon.com/2018/01/trump-san...</td>\n",
       "      <td>Trump droht, jeden zu verspeisen, der an seine...</td>\n",
       "      <td>Nun ist es auch medizinisch offiziell bestätig...</td>\n",
       "      <td>wirtschaft</td>\n",
       "      <td>2018-01-17 00:00:00</td>\n",
       "      <td>Postillion</td>\n",
       "      <td>1</td>\n",
       "      <td>NaN</td>\n",
       "    </tr>\n",
       "    <tr>\n",
       "      <th>773235</th>\n",
       "      <td>http://www.der-postillon.com/2018/01/fdp-sondi...</td>\n",
       "      <td>Soli runter, keine Steuererhöhungen, kein Klim...</td>\n",
       "      <td>Es waren zähe Verhandlungen, doch die Freien D...</td>\n",
       "      <td>wirtschaft</td>\n",
       "      <td>2018-01-12 00:00:00</td>\n",
       "      <td>Postillion</td>\n",
       "      <td>1</td>\n",
       "      <td>NaN</td>\n",
       "    </tr>\n",
       "    <tr>\n",
       "      <th>773236</th>\n",
       "      <td>http://www.der-postillon.com/2018/01/joachim-s...</td>\n",
       "      <td>Hat sie eine Affäre? Joachim Sauer glaubt Ange...</td>\n",
       "      <td>Wo treibt sie sich immer bis spät in die Nacht...</td>\n",
       "      <td>wirtschaft</td>\n",
       "      <td>2018-01-09 00:00:00</td>\n",
       "      <td>Postillion</td>\n",
       "      <td>1</td>\n",
       "      <td>NaN</td>\n",
       "    </tr>\n",
       "    <tr>\n",
       "      <th>773237</th>\n",
       "      <td>http://www.der-postillon.com/2018/01/halb-so-s...</td>\n",
       "      <td>\"Er hat ja nur HALBneger gesagt\": So begründet...</td>\n",
       "      <td>Der Parteivorstand drückt nochmal ein Auge zu:...</td>\n",
       "      <td>wirtschaft</td>\n",
       "      <td>2018-01-08 00:00:00</td>\n",
       "      <td>Postillion</td>\n",
       "      <td>1</td>\n",
       "      <td>NaN</td>\n",
       "    </tr>\n",
       "    <tr>\n",
       "      <th>...</th>\n",
       "      <td>...</td>\n",
       "      <td>...</td>\n",
       "      <td>...</td>\n",
       "      <td>...</td>\n",
       "      <td>...</td>\n",
       "      <td>...</td>\n",
       "      <td>...</td>\n",
       "      <td>...</td>\n",
       "    </tr>\n",
       "    <tr>\n",
       "      <th>838144</th>\n",
       "      <td>http://www.kleinezeitung.at//international/537...</td>\n",
       "      <td>Lehrer entging durch Hochzeit mit Schülerin Ve...</td>\n",
       "      <td>55-Jähriger muss nach Sex mit damals 15-Jährig...</td>\n",
       "      <td>International</td>\n",
       "      <td>2018-02-26 00:00:00</td>\n",
       "      <td>Kleine</td>\n",
       "      <td>0</td>\n",
       "      <td>NaN</td>\n",
       "    </tr>\n",
       "    <tr>\n",
       "      <th>838145</th>\n",
       "      <td>http://www.kleinezeitung.at//wirtschaft/wirtsc...</td>\n",
       "      <td>Warum die Taiwaner Toilettenpapier bunkern</td>\n",
       "      <td>Aus Angst vor Preiserhöhungen bei Klopapier ka...</td>\n",
       "      <td>Wirtschaft</td>\n",
       "      <td>2018-02-26 00:00:00</td>\n",
       "      <td>Kleine</td>\n",
       "      <td>0</td>\n",
       "      <td>NaN</td>\n",
       "    </tr>\n",
       "    <tr>\n",
       "      <th>838146</th>\n",
       "      <td>http://www.kleinezeitung.at//wirtschaft/wirtsc...</td>\n",
       "      <td>Warum die Taiwaner Toilettenpapier bunkern</td>\n",
       "      <td>Aus Angst vor Preiserhöhungen bei Klopapier ka...</td>\n",
       "      <td>Wirtschaft</td>\n",
       "      <td>2018-02-26 00:00:00</td>\n",
       "      <td>Kleine</td>\n",
       "      <td>0</td>\n",
       "      <td>NaN</td>\n",
       "    </tr>\n",
       "    <tr>\n",
       "      <th>838147</th>\n",
       "      <td>http://www.kleinezeitung.at//wirtschaft/wirtsc...</td>\n",
       "      <td>\\r\\nDie neue Premium-Klasse von Samsung\\r\\n   ...</td>\n",
       "      <td>Am Vorabend der Eröffnung des Mobile World Con...</td>\n",
       "      <td>Wirtschaft</td>\n",
       "      <td>2018-02-25 00:00:00</td>\n",
       "      <td>Kleine</td>\n",
       "      <td>0</td>\n",
       "      <td>NaN</td>\n",
       "    </tr>\n",
       "    <tr>\n",
       "      <th>838148</th>\n",
       "      <td>http://www.kleinezeitung.at//kultur/klassik/53...</td>\n",
       "      <td>Dirigent Gustav Kuhn wehrt sich gegen \"haltlos...</td>\n",
       "      <td>Gustav Kuhn, künstlerischer Leiter der Festspi...</td>\n",
       "      <td>Kultur</td>\n",
       "      <td>2018-02-26 00:00:00</td>\n",
       "      <td>Kleine</td>\n",
       "      <td>0</td>\n",
       "      <td>NaN</td>\n",
       "    </tr>\n",
       "  </tbody>\n",
       "</table>\n",
       "<p>63868 rows × 8 columns</p>\n",
       "</div>"
      ],
      "text/plain": [
       "                                                      url  \\\n",
       "id                                                          \n",
       "773233  http://www.der-postillon.com/2018/01/grokoleak...   \n",
       "773234  http://www.der-postillon.com/2018/01/trump-san...   \n",
       "773235  http://www.der-postillon.com/2018/01/fdp-sondi...   \n",
       "773236  http://www.der-postillon.com/2018/01/joachim-s...   \n",
       "773237  http://www.der-postillon.com/2018/01/halb-so-s...   \n",
       "...                                                   ...   \n",
       "838144  http://www.kleinezeitung.at//international/537...   \n",
       "838145  http://www.kleinezeitung.at//wirtschaft/wirtsc...   \n",
       "838146  http://www.kleinezeitung.at//wirtschaft/wirtsc...   \n",
       "838147  http://www.kleinezeitung.at//wirtschaft/wirtsc...   \n",
       "838148  http://www.kleinezeitung.at//kultur/klassik/53...   \n",
       "\n",
       "                                                    Titel  \\\n",
       "id                                                          \n",
       "773233  Exklusiv! Das geheime WhatsApp-Chat-Protokoll ...   \n",
       "773234  Trump droht, jeden zu verspeisen, der an seine...   \n",
       "773235  Soli runter, keine Steuererhöhungen, kein Klim...   \n",
       "773236  Hat sie eine Affäre? Joachim Sauer glaubt Ange...   \n",
       "773237  \"Er hat ja nur HALBneger gesagt\": So begründet...   \n",
       "...                                                   ...   \n",
       "838144  Lehrer entging durch Hochzeit mit Schülerin Ve...   \n",
       "838145         Warum die Taiwaner Toilettenpapier bunkern   \n",
       "838146         Warum die Taiwaner Toilettenpapier bunkern   \n",
       "838147  \\r\\nDie neue Premium-Klasse von Samsung\\r\\n   ...   \n",
       "838148  Dirigent Gustav Kuhn wehrt sich gegen \"haltlos...   \n",
       "\n",
       "                                                     Body      Kategorie  \\\n",
       "id                                                                         \n",
       "773233  Die Sondierungsgespräche zwischen Union und SP...     wirtschaft   \n",
       "773234  Nun ist es auch medizinisch offiziell bestätig...     wirtschaft   \n",
       "773235  Es waren zähe Verhandlungen, doch die Freien D...     wirtschaft   \n",
       "773236  Wo treibt sie sich immer bis spät in die Nacht...     wirtschaft   \n",
       "773237  Der Parteivorstand drückt nochmal ein Auge zu:...     wirtschaft   \n",
       "...                                                   ...            ...   \n",
       "838144  55-Jähriger muss nach Sex mit damals 15-Jährig...  International   \n",
       "838145  Aus Angst vor Preiserhöhungen bei Klopapier ka...     Wirtschaft   \n",
       "838146  Aus Angst vor Preiserhöhungen bei Klopapier ka...     Wirtschaft   \n",
       "838147  Am Vorabend der Eröffnung des Mobile World Con...     Wirtschaft   \n",
       "838148  Gustav Kuhn, künstlerischer Leiter der Festspi...         Kultur   \n",
       "\n",
       "                      Datum      Quelle  Fake  Art  \n",
       "id                                                  \n",
       "773233  2018-01-18 00:00:00  Postillion     1  NaN  \n",
       "773234  2018-01-17 00:00:00  Postillion     1  NaN  \n",
       "773235  2018-01-12 00:00:00  Postillion     1  NaN  \n",
       "773236  2018-01-09 00:00:00  Postillion     1  NaN  \n",
       "773237  2018-01-08 00:00:00  Postillion     1  NaN  \n",
       "...                     ...         ...   ...  ...  \n",
       "838144  2018-02-26 00:00:00      Kleine     0  NaN  \n",
       "838145  2018-02-26 00:00:00      Kleine     0  NaN  \n",
       "838146  2018-02-26 00:00:00      Kleine     0  NaN  \n",
       "838147  2018-02-25 00:00:00      Kleine     0  NaN  \n",
       "838148  2018-02-26 00:00:00      Kleine     0  NaN  \n",
       "\n",
       "[63868 rows x 8 columns]"
      ]
     },
     "execution_count": 39,
     "metadata": {},
     "output_type": "execute_result"
    }
   ],
   "source": [
    "df"
   ]
  },
  {
   "cell_type": "markdown",
   "id": "35c057f9",
   "metadata": {},
   "source": [
    "## Create new dataset using Undersampling"
   ]
  },
  {
   "cell_type": "markdown",
   "id": "539125d7",
   "metadata": {},
   "source": [
    "We created a new dataset that has Title, Body and Fake as its columns, then because the fake news is much less than the real, according to the EDA, we performed random Undersampling to balance our dataset.  "
   ]
  },
  {
   "cell_type": "code",
   "execution_count": 60,
   "id": "a4d93337",
   "metadata": {},
   "outputs": [],
   "source": [
    "X_train=np.array([df['Titel'],df['Body']]).T\n",
    "y_train = np.array(df['Fake'])\n",
    "\n",
    "rus = RandomUnderSampler(random_state=0)\n",
    "X_resampled_under, y_resampled_under =rus.fit_resample(X_train, y_train)\n",
    "\n",
    "x_final = np.append(X_resampled_under, y_resampled_under.reshape(9254,1), axis=1)\n",
    "\n",
    "df_new = pd.DataFrame(x_final)\n",
    "\n",
    "df_new.columns = ['Title', 'Text', 'Fake-Real']"
   ]
  },
  {
   "cell_type": "code",
   "execution_count": 81,
   "id": "f3489f9b",
   "metadata": {},
   "outputs": [],
   "source": [
    "df_new"
   ]
  },
  {
   "cell_type": "markdown",
   "id": "4af51225",
   "metadata": {},
   "source": [
    "## Stemming"
   ]
  },
  {
   "cell_type": "markdown",
   "id": "a1bd5dd6",
   "metadata": {},
   "source": [
    "We used a German stemmer we found on github: https://github.com/LeonieWeissweiler/CISTEM  \n",
    "And we created a function named stemmer that performs German stopword removal and stemming in a dataset entry."
   ]
  },
  {
   "cell_type": "code",
   "execution_count": 90,
   "id": "314255ab",
   "metadata": {},
   "outputs": [],
   "source": [
    "stripge = re.compile(r\"^ge(.{4,})\")\n",
    "replxx = re.compile(r\"(.)\\1\")\n",
    "replxxback = re.compile(r\"(.)\\*\");\n",
    "stripemr = re.compile(r\"e[mr]$\")\n",
    "stripnd = re.compile(r\"nd$\")\n",
    "stript = re.compile(r\"t$\")\n",
    "stripesn = re.compile(r\"[esn]$\")\n",
    "\n",
    "\n",
    "def stem(word, case_insensitive = False):\n",
    "    if len(word) == 0:\n",
    "        return word\n",
    "\n",
    "    upper = word[0].isupper()\n",
    "    word = word.lower()\n",
    "\n",
    "    word = word.replace(\"ü\",\"u\")\n",
    "    word = word.replace(\"ö\",\"o\")\n",
    "    word = word.replace(\"ä\",\"a\")\n",
    "    word = word.replace(\"ß\",\"ss\")\n",
    "\n",
    "    word = stripge.sub(r\"\\1\", word)\n",
    "    word = word.replace(\"sch\",\"$\")\n",
    "    word = word.replace(\"ei\",\"%\")\n",
    "    word = word.replace(\"ie\",\"&\")\n",
    "    word = replxx.sub(r\"\\1*\", word)\n",
    "\n",
    "    while len(word) > 3:\n",
    "        if len(word) > 5:\n",
    "            (word, success) = stripemr.subn(\"\", word)\n",
    "            if success != 0:\n",
    "                continue\n",
    "\n",
    "            (word, success) = stripnd.subn(\"\", word)\n",
    "            if success != 0:\n",
    "                continue\n",
    "\n",
    "        if not upper or case_insensitive:\n",
    "            (word, success) = stript.subn(\"\", word)\n",
    "            if success != 0:\n",
    "                continue\n",
    "\n",
    "        (word, success) = stripesn.subn(\"\", word)\n",
    "        if success != 0:\n",
    "            continue\n",
    "        else:\n",
    "            break\n",
    "\n",
    "    word = replxxback.sub(r\"\\1\\1\", word)\n",
    "    word = word.replace(\"%\",\"ei\")\n",
    "    word = word.replace(\"&\",\"ie\")\n",
    "    word = word.replace(\"$\",\"sch\")\n",
    "\n",
    "    return word\n",
    "\n",
    "def stemmer(title):\n",
    "    review = re.sub('[^a-zA-ZäöüÄÖÜß]',' ', title)\n",
    "    review = review.lower().split()\n",
    "    review = [stem(word) for word in review if not word in stopwords.words('german')]\n",
    "    review = ' '.join(review)\n",
    "    return(review)\n",
    "\n",
    "def create_dataset_fake_news(df):\n",
    "    \n",
    "    for i in range(0, len(df)):\n",
    "        df.iloc[i,0] = stemmer(df.iloc[i,0])    \n",
    "        df.iloc[i,1] = stemmer(df.iloc[i,1])   \n",
    "    return(df)\n"
   ]
  },
  {
   "cell_type": "markdown",
   "id": "4b23aadb",
   "metadata": {},
   "source": [
    "## Creating new dataset"
   ]
  },
  {
   "cell_type": "code",
   "execution_count": null,
   "id": "de62729b",
   "metadata": {},
   "outputs": [],
   "source": [
    "df_preprocessed = create_dataset_fake_news(df_new)"
   ]
  },
  {
   "cell_type": "code",
   "execution_count": null,
   "id": "1d4b4c82",
   "metadata": {},
   "outputs": [],
   "source": [
    "#Some statistics about our data\n",
    "print(df_preprocessed[df_preprocessed['Fake-Real'] == 0].count())\n",
    "print(df_preprocessed[df_preprocessed['Fake-Real'] == 1].count())"
   ]
  },
  {
   "cell_type": "markdown",
   "id": "9aacd157",
   "metadata": {},
   "source": [
    "   ## Saving our dataset "
   ]
  },
  {
   "cell_type": "code",
   "execution_count": 28,
   "id": "6cb9ab52",
   "metadata": {},
   "outputs": [
    {
     "data": {
      "text/plain": [
       "'http://www.der-postillon.com/2018/01/grokoleaks.html'"
      ]
     },
     "execution_count": 28,
     "metadata": {},
     "output_type": "execute_result"
    }
   ],
   "source": [
    "df_preprocessed.to_csv('../../Datasets/news/df_preprocessed_news')"
   ]
  }
 ],
 "metadata": {
  "kernelspec": {
   "display_name": "Python 3 (ipykernel)",
   "language": "python",
   "name": "python3"
  },
  "language_info": {
   "codemirror_mode": {
    "name": "ipython",
    "version": 3
   },
   "file_extension": ".py",
   "mimetype": "text/x-python",
   "name": "python",
   "nbconvert_exporter": "python",
   "pygments_lexer": "ipython3",
   "version": "3.9.7"
  },
  "latex_envs": {
   "LaTeX_envs_menu_present": true,
   "autoclose": false,
   "autocomplete": true,
   "bibliofile": "biblio.bib",
   "cite_by": "apalike",
   "current_citInitial": 1,
   "eqLabelWithNumbers": true,
   "eqNumInitial": 1,
   "hotkeys": {
    "equation": "Ctrl-E",
    "itemize": "Ctrl-I"
   },
   "labels_anchors": false,
   "latex_user_defs": false,
   "report_style_numbering": false,
   "user_envs_cfg": false
  },
  "toc": {
   "base_numbering": 1,
   "nav_menu": {},
   "number_sections": true,
   "sideBar": true,
   "skip_h1_title": false,
   "title_cell": "Table of Contents",
   "title_sidebar": "Contents",
   "toc_cell": false,
   "toc_position": {},
   "toc_section_display": true,
   "toc_window_display": false
  },
  "varInspector": {
   "cols": {
    "lenName": 16,
    "lenType": 16,
    "lenVar": 40
   },
   "kernels_config": {
    "python": {
     "delete_cmd_postfix": "",
     "delete_cmd_prefix": "del ",
     "library": "var_list.py",
     "varRefreshCmd": "print(var_dic_list())"
    },
    "r": {
     "delete_cmd_postfix": ") ",
     "delete_cmd_prefix": "rm(",
     "library": "var_list.r",
     "varRefreshCmd": "cat(var_dic_list()) "
    }
   },
   "types_to_exclude": [
    "module",
    "function",
    "builtin_function_or_method",
    "instance",
    "_Feature"
   ],
   "window_display": false
  }
 },
 "nbformat": 4,
 "nbformat_minor": 5
}
