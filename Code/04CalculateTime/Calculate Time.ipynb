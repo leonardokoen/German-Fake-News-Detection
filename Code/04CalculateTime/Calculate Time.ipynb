{
 "cells": [
  {
   "cell_type": "markdown",
   "id": "618769c7",
   "metadata": {},
   "source": [
    "# Investigating Time"
   ]
  },
  {
   "cell_type": "markdown",
   "id": "dc6af059",
   "metadata": {},
   "source": [
    "## The code here is exactly like CNN-LSTM Model\n"
   ]
  },
  {
   "cell_type": "code",
   "execution_count": 20,
   "id": "0d2b3096",
   "metadata": {},
   "outputs": [],
   "source": [
    "import pandas as pd\n",
    "import numpy as np\n",
    "from sklearn.model_selection import train_test_split\n",
    "\n",
    "import tensorflow as tf #for training of deep neural networks\n",
    "from tensorflow.keras.layers import Embedding #for a real-valued vector representation\n",
    "from tensorflow.keras.preprocessing.sequence import pad_sequences #to make the input length fixed\n",
    "from tensorflow.keras.models import Sequential #to create a sequential model\n",
    "from tensorflow.keras.preprocessing.text import one_hot #to convert sentences into one-hot representations given the vocabulary size\n",
    "from tensorflow.keras.layers import LSTM #to process the sequences of data\n",
    "from tensorflow.keras.layers import Conv1D\n",
    "from tensorflow.keras.layers import Dense #receives input from its previous layer\n",
    "from tensorflow.keras.layers import MaxPooling1D\n",
    "from keras.callbacks import Callback\n",
    "\n",
    "from timeit import default_timer as timer\n",
    "import time\n",
    "\n",
    "from matplotlib import pyplot as plt\n",
    "%matplotlib inline"
   ]
  },
  {
   "cell_type": "code",
   "execution_count": 5,
   "id": "9da5c380",
   "metadata": {},
   "outputs": [],
   "source": [
    "#If you didn't run the preprocess codes you can used the already preprocessed \n",
    "#data by changing the first and the third line of code with the following.\n",
    "#df_news = pd.read_csv('..\\\\..\\\\Datasets\\\\Preprocessed\\\\df_preprocessed_news', index_col=0)\n",
    "#df_germanFakeNC = pd.read_csv('..\\\\..\\\\Datasets\\\\Preprocessed\\\\df_preprocessed_GermanFakeNC', index_col=0)\n",
    "\n",
    "df_news = pd.read_csv('..\\\\..\\\\Datasets\\\\news\\\\df_preprocessed_news', index_col=0)\n",
    "df_news = df_news.sample(frac=1).reset_index(drop=True)\n",
    "\n",
    "df_germanFakeNC = pd.read_csv('..\\\\..\\\\Datasets\\\\GermanFakeNC\\\\df_preprocessed_GermanFakeNC', index_col=0)\n",
    "df_germanFakeNC = df_germanFakeNC.sample(frac=1).reset_index(drop=True)\n",
    "\n",
    "df_combined = pd.concat([df_news.reset_index(drop=True),df_germanFakeNC.reset_index(drop=True)], axis=0)\n",
    "df_combined = df_combined.sample(frac=1).reset_index(drop=True)\n",
    "\n",
    "vocab=20000\n",
    "onehot_repr_news=[one_hot(words,vocab)for words in df_news['Text']]\n",
    "onehot_repr_germanFakeNC=[one_hot(words,vocab)for words in df_germanFakeNC['Text']]\n",
    "onehot_repr_combined=[one_hot(words,vocab)for words in df_combined['Text']]\n",
    "\n",
    "length = 100\n",
    "embedded_docs_news=pad_sequences(onehot_repr_news,padding='pre',maxlen=length)\n",
    "embedded_docs_germanFakeNC=pad_sequences(onehot_repr_germanFakeNC,padding='pre',maxlen=length)\n",
    "embedded_docs_combined=pad_sequences(onehot_repr_combined,padding='pre',maxlen=length)\n",
    "\n",
    "embedding_vector_features=300\n",
    "model=Sequential()\n",
    "model.add(Embedding(vocab,embedding_vector_features,input_length=length))\n",
    "model.add(Conv1D(128, 5, activation='relu'))\n",
    "model.add(MaxPooling1D(pool_size=1,strides=2,padding='valid'))\n",
    "model.add(LSTM(128)) #Adding 100 lstm neurons in the layer\n",
    "model.add(Dense(1,activation='sigmoid'))\n",
    "model.compile(loss='binary_crossentropy',optimizer='adam',metrics=['accuracy'])"
   ]
  },
  {
   "cell_type": "markdown",
   "id": "86fc35d7",
   "metadata": {},
   "source": [
    "## Investigating input_size vs training_time"
   ]
  },
  {
   "cell_type": "markdown",
   "id": "b5e8af51",
   "metadata": {},
   "source": [
    "We need callback functions from *keras* to export time in each epoch."
   ]
  },
  {
   "cell_type": "code",
   "execution_count": 6,
   "id": "807fad9f",
   "metadata": {},
   "outputs": [],
   "source": [
    "class TimingCallback(Callback):\n",
    "    def __init__(self, logs={}):\n",
    "        self.logs=[]\n",
    "    def on_epoch_begin(self, epoch, logs={}):\n",
    "        self.starttime = timer()\n",
    "    def on_epoch_end(self, epoch, logs={}):\n",
    "        self.logs.append(timer()-self.starttime)"
   ]
  },
  {
   "cell_type": "markdown",
   "id": "b867ff78",
   "metadata": {},
   "source": [
    "We try the small dataset germanFakeNC to produce input_size vs time. The *embedded_docs_germanFakeNC.shape* is (308, 100) every input is of length(?, 100). So with *train_test_split* we create many datasets by changing the test_size. In every interation we calculate the time that it took and the size of the input."
   ]
  },
  {
   "cell_type": "code",
   "execution_count": 24,
   "id": "50a46c8c",
   "metadata": {},
   "outputs": [
    {
     "data": {
      "text/plain": [
       "(308, 100)"
      ]
     },
     "execution_count": 24,
     "metadata": {},
     "output_type": "execute_result"
    }
   ],
   "source": [
    "embedded_docs_germanFakeNC.shape"
   ]
  },
  {
   "cell_type": "code",
   "execution_count": 18,
   "id": "e1785367",
   "metadata": {},
   "outputs": [],
   "source": [
    "test_size = 0.9\n",
    "input_size = list()\n",
    "time = list()\n",
    "X_final=np.array(embedded_docs_germanFakeNC) # Converting X and y as array which are embedded padded objects\n",
    "y_final=np.array(df_germanFakeNC['Fake-Real'])\n",
    "for i in range(0,200):\n",
    "    cb = TimingCallback()\n",
    "    X_train, X_test, y_train, y_test = train_test_split(X_final, y_final, test_size=test_size, random_state=42)\n",
    "    model.fit(X_train,y_train,epochs=5,batch_size=64, shuffle=True, callbacks=[cb],verbose=0)\n",
    "    time.append(sum(cb.logs))\n",
    "    input_size.append(round((1-test_size)*308))\n",
    "    test_size = test_size - (i+1)/200\n",
    "    if test_size <= 0 : \n",
    "        break"
   ]
  },
  {
   "cell_type": "markdown",
   "id": "8099cf9b",
   "metadata": {},
   "source": [
    "Then we plot our data and we observe that the time is almost linearly affected by the size of input. So we fit a linear regression model to our data."
   ]
  },
  {
   "cell_type": "code",
   "execution_count": 29,
   "id": "bddc80e5",
   "metadata": {},
   "outputs": [
    {
     "data": {
      "image/png": "[encoded data removed]",
      "text/plain": [
       "<Figure size 432x288 with 1 Axes>"
      ]
     },
     "metadata": {
      "needs_background": "light"
     },
     "output_type": "display_data"
    }
   ],
   "source": [
    "t = np.array(time)\n",
    "inp = np.array(input_size)\n",
    "\n",
    "plt.scatter(inp, t)\n",
    "\n",
    "linear_model=np.polyfit(inp,t,1)\n",
    "linear_model_fn=np.poly1d(linear_model)\n",
    "\n",
    "x_s=np.arange(0,300)\n",
    "\n",
    "plt.plot(x_s,linear_model_fn(x_s),color=\"green\")\n",
    "plt.xlabel(\"Size of Input((n,100))\")\n",
    "plt.ylabel(\"Time(s)\")\n",
    "plt.show()"
   ]
  },
  {
   "cell_type": "markdown",
   "id": "a2c016b7",
   "metadata": {},
   "source": [
    "The first value of the linear model is the slope and the second is the intercept."
   ]
  },
  {
   "cell_type": "code",
   "execution_count": 20,
   "id": "05cc08ec",
   "metadata": {},
   "outputs": [
    {
     "data": {
      "text/plain": [
       "array([0.02263116, 0.22427572])"
      ]
     },
     "execution_count": 20,
     "metadata": {},
     "output_type": "execute_result"
    }
   ],
   "source": [
    "linear_model"
   ]
  },
  {
   "cell_type": "markdown",
   "id": "32bca3ef",
   "metadata": {},
   "source": [
    "We try to predict the time that it takes to train an input size of 9000"
   ]
  },
  {
   "cell_type": "code",
   "execution_count": 32,
   "id": "33b89a7b",
   "metadata": {},
   "outputs": [],
   "source": [
    "def predict(linear_model, x):\n",
    "    pre = linear_model[0]*x + linear_model[1]\n",
    "    return(pre)"
   ]
  },
  {
   "cell_type": "code",
   "execution_count": 22,
   "id": "48eae4d3",
   "metadata": {},
   "outputs": [
    {
     "data": {
      "text/plain": [
       "203.90470995849947"
      ]
     },
     "execution_count": 22,
     "metadata": {},
     "output_type": "execute_result"
    }
   ],
   "source": [
    "predict(linear_model, 9000)"
   ]
  },
  {
   "cell_type": "markdown",
   "id": "b6c75213",
   "metadata": {},
   "source": [
    "Then lets try to calculate the actual value."
   ]
  },
  {
   "cell_type": "code",
   "execution_count": 13,
   "id": "25e68d24",
   "metadata": {},
   "outputs": [
    {
     "data": {
      "text/plain": [
       "(9562, 100)"
      ]
     },
     "execution_count": 13,
     "metadata": {},
     "output_type": "execute_result"
    }
   ],
   "source": [
    "embedded_docs_combined.shape"
   ]
  },
  {
   "cell_type": "code",
   "execution_count": 16,
   "id": "c829f17c",
   "metadata": {},
   "outputs": [
    {
     "data": {
      "text/plain": [
       "8988.279999999999"
      ]
     },
     "execution_count": 16,
     "metadata": {},
     "output_type": "execute_result"
    }
   ],
   "source": [
    "0.94*embedded_docs_combined.shape[0]"
   ]
  },
  {
   "cell_type": "code",
   "execution_count": 8,
   "id": "2ef7f552",
   "metadata": {},
   "outputs": [
    {
     "name": "stdout",
     "output_type": "stream",
     "text": [
      "214.92029780000001\n"
     ]
    }
   ],
   "source": [
    "cb = TimingCallback()\n",
    "X_final=np.array(embedded_docs_combined) # Converting X and y as array which are embedded padded objects\n",
    "y_final=np.array(df_combined['Fake-Real'])\n",
    "X_train, X_test, y_train, y_test = train_test_split(X_final, y_final, test_size=1-0.94, random_state=42)\n",
    "model.fit(X_train,y_train,epochs=5,batch_size=64, shuffle=True, callbacks=[cb],verbose=0)\n",
    "print(sum(cb.logs))"
   ]
  },
  {
   "cell_type": "markdown",
   "id": "867f03bc",
   "metadata": {},
   "source": [
    "The actual value is almost equivalent to our prediction."
   ]
  },
  {
   "cell_type": "markdown",
   "id": "a23f0375",
   "metadata": {},
   "source": [
    "Now, let's try to predict the time is needed for an input size of 5000"
   ]
  },
  {
   "cell_type": "code",
   "execution_count": 25,
   "id": "930c30b1",
   "metadata": {},
   "outputs": [
    {
     "data": {
      "text/plain": [
       "113.3800725172214"
      ]
     },
     "execution_count": 25,
     "metadata": {},
     "output_type": "execute_result"
    }
   ],
   "source": [
    "predict(linear_model, 5000)"
   ]
  },
  {
   "cell_type": "markdown",
   "id": "b0357111",
   "metadata": {},
   "source": [
    "The actual time"
   ]
  },
  {
   "cell_type": "code",
   "execution_count": 27,
   "id": "62f6ab16",
   "metadata": {},
   "outputs": [
    {
     "data": {
      "text/plain": [
       "4972.24"
      ]
     },
     "execution_count": 27,
     "metadata": {},
     "output_type": "execute_result"
    }
   ],
   "source": [
    "0.52*embedded_docs_combined.shape[0]"
   ]
  },
  {
   "cell_type": "code",
   "execution_count": 28,
   "id": "cb771e73",
   "metadata": {},
   "outputs": [
    {
     "name": "stdout",
     "output_type": "stream",
     "text": [
      "115.02064620000056\n"
     ]
    }
   ],
   "source": [
    "X_final=np.array(embedded_docs_combined) # Converting X and y as array which are embedded padded objects\n",
    "y_final=np.array(df_combined['Fake-Real'])\n",
    "X_train, X_test, y_train, y_test = train_test_split(X_final, y_final, test_size=1-0.52, random_state=42)\n",
    "model.fit(X_train,y_train,epochs=5,batch_size=64, shuffle=True, callbacks=[cb],verbose=0)\n",
    "print(sum(cb.logs))"
   ]
  },
  {
   "cell_type": "markdown",
   "id": "7755104c",
   "metadata": {},
   "source": [
    "## Investigating input_size vs prediction_time"
   ]
  },
  {
   "cell_type": "code",
   "execution_count": 28,
   "id": "4a4bf8ad",
   "metadata": {},
   "outputs": [],
   "source": [
    "test_size = 0.1\n",
    "input_size = list()\n",
    "time_measurement = list()\n",
    "X_final=np.array(embedded_docs_germanFakeNC) # Converting X and y as array which are embedded padded objects\n",
    "y_final=np.array(df_germanFakeNC['Fake-Real'])\n",
    "for i in range(0,500):\n",
    "    X_train, X_test, y_train, y_test = train_test_split(X_final, y_final, test_size=test_size, random_state=42)\n",
    "    start = time.perf_counter()\n",
    "    predicted_combined = model.predict(X_test)\n",
    "    end = time.perf_counter()\n",
    "    time_measurement.append(end-start)\n",
    "    input_size.append(round(test_size*308))\n",
    "    test_size = test_size + (i+1)/300\n",
    "    if test_size >= 1 : \n",
    "        break"
   ]
  },
  {
   "cell_type": "code",
   "execution_count": 30,
   "id": "0c6f32cf",
   "metadata": {},
   "outputs": [
    {
     "data": {
      "image/png": "[encoded data removed]",
      "text/plain": [
       "<Figure size 432x288 with 1 Axes>"
      ]
     },
     "metadata": {
      "needs_background": "light"
     },
     "output_type": "display_data"
    }
   ],
   "source": [
    "t = np.array(time_measurement)\n",
    "inp = np.array(input_size)\n",
    "\n",
    "plt.scatter(inp, t)\n",
    "\n",
    "linear_model=np.polyfit(inp,t,1)\n",
    "linear_model_fn=np.poly1d(linear_model)\n",
    "\n",
    "x_s=np.arange(0,300)\n",
    "\n",
    "plt.plot(x_s,linear_model_fn(x_s),color=\"green\")\n",
    "plt.xlabel(\"Size of Input((n,100))\")\n",
    "plt.ylabel(\"Time(s)\")\n",
    "plt.show()"
   ]
  },
  {
   "cell_type": "code",
   "execution_count": 33,
   "id": "4d19b09a",
   "metadata": {},
   "outputs": [
    {
     "data": {
      "text/plain": [
       "7.282344176241554"
      ]
     },
     "execution_count": 33,
     "metadata": {},
     "output_type": "execute_result"
    }
   ],
   "source": [
    "predict(linear_model, 9000)"
   ]
  },
  {
   "cell_type": "code",
   "execution_count": 35,
   "id": "78abe09c",
   "metadata": {},
   "outputs": [
    {
     "name": "stdout",
     "output_type": "stream",
     "text": [
      "8.02467069999966\n"
     ]
    }
   ],
   "source": [
    "X_final=np.array(embedded_docs_combined) # Converting X and y as array which are embedded padded objects\n",
    "y_final=np.array(df_combined['Fake-Real'])\n",
    "X_train, X_test, y_train, y_test = train_test_split(X_final, y_final, test_size=0.94, random_state=42)\n",
    "start = time.perf_counter()\n",
    "model.predict(X_test)\n",
    "end = time.perf_counter()\n",
    "print(end-start)"
   ]
  },
  {
   "cell_type": "code",
   "execution_count": 37,
   "id": "ace07f97",
   "metadata": {},
   "outputs": [
    {
     "data": {
      "text/plain": [
       "4.068520483263021"
      ]
     },
     "execution_count": 37,
     "metadata": {},
     "output_type": "execute_result"
    }
   ],
   "source": [
    "predict(linear_model, 5000)"
   ]
  },
  {
   "cell_type": "code",
   "execution_count": 36,
   "id": "ef4db4b5",
   "metadata": {},
   "outputs": [
    {
     "name": "stdout",
     "output_type": "stream",
     "text": [
      "4.788046399999985\n"
     ]
    }
   ],
   "source": [
    "X_final=np.array(embedded_docs_combined) # Converting X and y as array which are embedded padded objects\n",
    "y_final=np.array(df_combined['Fake-Real'])\n",
    "X_train, X_test, y_train, y_test = train_test_split(X_final, y_final, test_size=0.52, random_state=42)\n",
    "start = time.perf_counter()\n",
    "model.predict(X_test)\n",
    "end = time.perf_counter()\n",
    "print(end-start)"
   ]
  },
  {
   "cell_type": "code",
   "execution_count": 38,
   "id": "081ff26c",
   "metadata": {},
   "outputs": [
    {
     "data": {
      "text/plain": [
       "array([0.00080346, 0.05124087])"
      ]
     },
     "execution_count": 38,
     "metadata": {},
     "output_type": "execute_result"
    }
   ],
   "source": [
    "linear_model"
   ]
  }
 ],
 "metadata": {
  "kernelspec": {
   "display_name": "Python 3 (ipykernel)",
   "language": "python",
   "name": "python3"
  },
  "language_info": {
   "codemirror_mode": {
    "name": "ipython",
    "version": 3
   },
   "file_extension": ".py",
   "mimetype": "text/x-python",
   "name": "python",
   "nbconvert_exporter": "python",
   "pygments_lexer": "ipython3",
   "version": "3.9.7"
  },
  "latex_envs": {
   "LaTeX_envs_menu_present": true,
   "autoclose": false,
   "autocomplete": true,
   "bibliofile": "biblio.bib",
   "cite_by": "apalike",
   "current_citInitial": 1,
   "eqLabelWithNumbers": true,
   "eqNumInitial": 1,
   "hotkeys": {
    "equation": "Ctrl-E",
    "itemize": "Ctrl-I"
   },
   "labels_anchors": false,
   "latex_user_defs": false,
   "report_style_numbering": false,
   "user_envs_cfg": false
  },
  "toc": {
   "base_numbering": 1,
   "nav_menu": {},
   "number_sections": true,
   "sideBar": true,
   "skip_h1_title": false,
   "title_cell": "Table of Contents",
   "title_sidebar": "Contents",
   "toc_cell": false,
   "toc_position": {},
   "toc_section_display": true,
   "toc_window_display": false
  },
  "varInspector": {
   "cols": {
    "lenName": 16,
    "lenType": 16,
    "lenVar": 40
   },
   "kernels_config": {
    "python": {
     "delete_cmd_postfix": "",
     "delete_cmd_prefix": "del ",
     "library": "var_list.py",
     "varRefreshCmd": "print(var_dic_list())"
    },
    "r": {
     "delete_cmd_postfix": ") ",
     "delete_cmd_prefix": "rm(",
     "library": "var_list.r",
     "varRefreshCmd": "cat(var_dic_list()) "
    }
   },
   "types_to_exclude": [
    "module",
    "function",
    "builtin_function_or_method",
    "instance",
    "_Feature"
   ],
   "window_display": false
  }
 },
 "nbformat": 4,
 "nbformat_minor": 5
}
